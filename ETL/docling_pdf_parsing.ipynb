{
  "cells": [
    {
      "cell_type": "code",
      "execution_count": 1,
      "metadata": {
        "colab": {
          "base_uri": "https://localhost:8080/"
        },
        "id": "XyH6d-aPFyyU",
        "outputId": "fae89be5-1135-4a76-c000-082c80a624e7"
      },
      "outputs": [
        {
          "name": "stdout",
          "output_type": "stream",
          "text": [
            "Note: you may need to restart the kernel to use updated packages.\n"
          ]
        },
        {
          "name": "stderr",
          "output_type": "stream",
          "text": [
            "\n",
            "[notice] A new release of pip is available: 23.0.1 -> 24.3.1\n",
            "[notice] To update, run: python.exe -m pip install --upgrade pip\n"
          ]
        }
      ],
      "source": [
        "!pip install -q -U docling==2.13.0"
      ]
    },
    {
      "cell_type": "code",
      "execution_count": 2,
      "metadata": {},
      "outputs": [
        {
          "name": "stderr",
          "output_type": "stream",
          "text": [
            "c:\\Users\\Marselo\\OneDrive\\Documents\\GitHub\\uconline_poc\\proj.venv\\lib\\site-packages\\tqdm\\auto.py:21: TqdmWarning: IProgress not found. Please update jupyter and ipywidgets. See https://ipywidgets.readthedocs.io/en/stable/user_install.html\n",
            "  from .autonotebook import tqdm as notebook_tqdm\n"
          ]
        }
      ],
      "source": [
        "import os\n",
        "\n",
        "from docling.datamodel.base_models import InputFormat\n",
        "from docling.document_converter import DocumentConverter, PdfFormatOption\n",
        "from docling.datamodel.pipeline_options import PdfPipelineOptions\n",
        "from tqdm import tqdm"
      ]
    },
    {
      "cell_type": "code",
      "execution_count": 3,
      "metadata": {},
      "outputs": [],
      "source": [
        "def convert_pdf_to_md(pdf_filepath):\n",
        "    \"\"\"Use docling to convert a PDF document to a markdown document.\"\"\"\n",
        "    pipeline_options = PdfPipelineOptions(do_table_structure=True)\n",
        "\n",
        "    doc_converter = DocumentConverter(\n",
        "        format_options={\n",
        "            InputFormat.PDF: PdfFormatOption(pipeline_options=pipeline_options)\n",
        "        }\n",
        "    )\n",
        "    \n",
        "    conversion_result = doc_converter.convert(pdf_filepath)\n",
        "    \n",
        "    elements = [\n",
        "        'caption',\n",
        "        'checkbox_selected',\n",
        "        'checkbox_unselected',\n",
        "        'code',\n",
        "        'document_index',\n",
        "        'footnote',\n",
        "        'form',\n",
        "        'formula',\n",
        "        'key_value_region',\n",
        "        'list_item',\n",
        "        'page_footer',\n",
        "        'page_header',\n",
        "        'paragraph',\n",
        "        'picture',\n",
        "        'reference',\n",
        "        'section_header',\n",
        "        'table',\n",
        "        'text',\n",
        "        'title'\n",
        "    ]\n",
        "    \n",
        "    md_content = conversion_result.document.export_to_markdown(labels=elements)\n",
        "    return md_content"
      ]
    },
    {
      "cell_type": "code",
      "execution_count": null,
      "metadata": {},
      "outputs": [],
      "source": [
        "def batch_convert_pdf_to_md(pdf_dir, output_md_dir):\n",
        "    \"\"\"Batch convert all PDF files in a directory to markdown files.\"\"\"\n",
        "    # Create the output directory if it does not exist\n",
        "    os.makedirs(output_md_dir, exist_ok=True)\n",
        "        \n",
        "    # Gather PDF file paths\n",
        "    pdf_files = [f for f in os.listdir(pdf_dir) if f.endswith('.pdf')]\n",
        "    \n",
        "    # Process each PDF file\n",
        "    for pdf_file in tqdm(pdf_files, desc=\"Processing PDFs\", unit=\"file\"):\n",
        "        pdf_filepath = os.path.join(pdf_dir, pdf_file)\n",
        "        \n",
        "        try:\n",
        "            # convert the PDF to markdown\n",
        "            md_content = convert_pdf_to_md(pdf_filepath)\n",
        "            \n",
        "            # save the markdown content to a file\n",
        "            md_filename = pdf_file.replace('.pdf', '.md')\n",
        "            md_filepath = os.path.join(output_md_dir, md_filename)\n",
        "            with open(md_filepath, 'w', encoding='utf-8') as f:\n",
        "                f.write(md_content)\n",
        "        except Exception as e:\n",
        "            print(f\"Failed to process {pdf_filepath}: {e}\")"
      ]
    },
    {
      "cell_type": "code",
      "execution_count": 4,
      "metadata": {},
      "outputs": [],
      "source": [
        "PDF_DIR = 'course_materials/emgt605/modules_1_8_pdf'\n",
        "OUTPUT_DIR = 'course_materials/emgt605/modules_1_8_md'\n",
        "\n",
        "batch_convert_pdf_to_md(PDF_DIR, OUTPUT_DIR)"
      ]
    }
  ],
  "metadata": {
    "accelerator": "GPU",
    "colab": {
      "gpuType": "T4",
      "provenance": []
    },
    "kernelspec": {
      "display_name": "proj.venv",
      "language": "python",
      "name": "python3"
    },
    "language_info": {
      "codemirror_mode": {
        "name": "ipython",
        "version": 3
      },
      "file_extension": ".py",
      "mimetype": "text/x-python",
      "name": "python",
      "nbconvert_exporter": "python",
      "pygments_lexer": "ipython3",
      "version": "3.10.11 (tags/v3.10.11:7d4cc5a, Apr  5 2023, 00:38:17) [MSC v.1929 64 bit (AMD64)]"
    },
    "vscode": {
      "interpreter": {
        "hash": "90eff49fb3e24a038f7bb52d841221e01206cd547d9b592876ffc0cc6e591a8b"
      }
    }
  },
  "nbformat": 4,
  "nbformat_minor": 0
}
