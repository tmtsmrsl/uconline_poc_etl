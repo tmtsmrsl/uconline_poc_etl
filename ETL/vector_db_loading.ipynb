{
 "cells": [
  {
   "attachments": {},
   "cell_type": "markdown",
   "metadata": {},
   "source": [
    "## 0. Setup"
   ]
  },
  {
   "attachments": {},
   "cell_type": "markdown",
   "metadata": {},
   "source": [
    "Make sure to check the dependencies in the requirements.txt file."
   ]
  },
  {
   "cell_type": "code",
   "execution_count": 1,
   "metadata": {},
   "outputs": [],
   "source": [
    "import os\n",
    "\n",
    "import torch\n",
    "from dotenv import load_dotenv\n",
    "from langchain_huggingface import HuggingFaceEmbeddings\n",
    "from langchain_milvus.vectorstores import Milvus\n",
    "\n",
    "from ContentProcessor import ContentDocProcessor"
   ]
  },
  {
   "cell_type": "code",
   "execution_count": 2,
   "metadata": {},
   "outputs": [
    {
     "data": {
      "text/plain": [
       "True"
      ]
     },
     "execution_count": 2,
     "metadata": {},
     "output_type": "execute_result"
    }
   ],
   "source": [
    "load_dotenv()"
   ]
  },
  {
   "attachments": {},
   "cell_type": "markdown",
   "metadata": {},
   "source": [
    "## 1. HTML to LangChain Document Conversion"
   ]
  },
  {
   "attachments": {},
   "cell_type": "markdown",
   "metadata": {},
   "source": [
    "First, run the CourseScraper to scrape the submodule HTML contents. If running from the project root directory, the command would look like this:\n",
    "```bash\n",
    "python ETL/CourseScraper.py --input_json course_materials/emgt605/module_urls.json --ouput_dir course_materials/emgt605/module_content\n",
    "```\n",
    "\n",
    "Then we will load the output JSON files from the `module_content` directory and convert them into LangChain documents."
   ]
  },
  {
   "cell_type": "code",
   "execution_count": 29,
   "metadata": {},
   "outputs": [],
   "source": [
    "# The path to the directory containing the JSON files output of CourseScraper.py\n",
    "JSON_DIR = \"../course_materials/emgt605/module_content\"\n",
    "\n",
    "# The CSS elements to exclude when extracting text from the HTML content\n",
    "EXCLUDED_ELEMENTS_CSS='div.quiz-card__feedback, div.block-knowledge__retake-container, iframe, img, a'\n",
    "\n",
    "# We will run process all JSON files in the JSON_DIR and collect all the resulting Docments\n",
    "combined_docs = []\n",
    "json_files = [f for f in os.listdir(JSON_DIR) if f.endswith('.json')]\n",
    "processor = ContentDocProcessor(excluded_elements_css=EXCLUDED_ELEMENTS_CSS)\n",
    "for json_file in json_files:\n",
    "    json_path = os.path.join(JSON_DIR, json_file)\n",
    "    docs = processor.run(json_path)\n",
    "    combined_docs.extend(docs)"
   ]
  },
  {
   "attachments": {},
   "cell_type": "markdown",
   "metadata": {},
   "source": [
    "## 2. Document Embeddings and Vector DB Loading"
   ]
  },
  {
   "attachments": {},
   "cell_type": "markdown",
   "metadata": {},
   "source": [
    "Initialize the embedding model. Note that using GPU is highly recommended for this task as it will be much faster."
   ]
  },
  {
   "cell_type": "code",
   "execution_count": null,
   "metadata": {},
   "outputs": [],
   "source": [
    "# Utilize GPU to load and infer the embedding model if available \n",
    "DEVICE = torch.device(\"cuda\" if torch.cuda.is_available() else \"cpu\")\n",
    "EMBEDDING_MODEL_NAME = \"jinaai/jina-embeddings-v3\"\n",
    "\n",
    "model_kwargs = {\"device\": DEVICE, \"trust_remote_code\":True}\n",
    "dense_embeddings = HuggingFaceEmbeddings(\n",
    "    model_name=EMBEDDING_MODEL_NAME, model_kwargs=model_kwargs)"
   ]
  },
  {
   "cell_type": "code",
   "execution_count": 7,
   "metadata": {},
   "outputs": [],
   "source": [
    "# This is the parameter to connect to the Zilliz vector database\n",
    "ZILLIZ_URI = os.getenv(\"ZILLIZ_URI\")\n",
    "ZILLIZ_USER = os.getenv(\"ZILLIZ_USER\")\n",
    "ZILLIZ_PASSWORD = os.getenv(\"ZILLIZ_PASSWORD\")\n",
    "COLLECTION_NAME = \"emgt_605_jina\"\n",
    "\n",
    "# initialize the Milvus vector database\n",
    "vector_db = Milvus(\n",
    "    embedding_function=[dense_embeddings],\n",
    "    connection_args={\n",
    "        \"uri\": ZILLIZ_URI,\n",
    "        \"user\": ZILLIZ_USER,\n",
    "        \"password\": ZILLIZ_PASSWORD,\n",
    "        \"secure\": True},\n",
    "    collection_name=COLLECTION_NAME,\n",
    "    auto_id=True)"
   ]
  },
  {
   "cell_type": "code",
   "execution_count": null,
   "metadata": {},
   "outputs": [],
   "source": [
    "# add the documents to the vector database\n",
    "vector_db.add_documents(combined_docs)"
   ]
  },
  {
   "attachments": {},
   "cell_type": "markdown",
   "metadata": {},
   "source": [
    "Check if the documents has been loaded correctly into the vector database."
   ]
  },
  {
   "cell_type": "code",
   "execution_count": null,
   "metadata": {},
   "outputs": [],
   "source": [
    "retriever = vector_db.as_retriever()\n",
    "\n",
    "query = \"What are different ways to calculate GDP?\" \n",
    "results = retriever.invoke(query)"
   ]
  }
 ],
 "metadata": {
  "kernelspec": {
   "display_name": "proj.venv",
   "language": "python",
   "name": "python3"
  },
  "language_info": {
   "codemirror_mode": {
    "name": "ipython",
    "version": 3
   },
   "file_extension": ".py",
   "mimetype": "text/x-python",
   "name": "python",
   "nbconvert_exporter": "python",
   "pygments_lexer": "ipython3",
   "version": "3.10.11 (tags/v3.10.11:7d4cc5a, Apr  5 2023, 00:38:17) [MSC v.1929 64 bit (AMD64)]"
  },
  "orig_nbformat": 4,
  "vscode": {
   "interpreter": {
    "hash": "90eff49fb3e24a038f7bb52d841221e01206cd547d9b592876ffc0cc6e591a8b"
   }
  }
 },
 "nbformat": 4,
 "nbformat_minor": 2
}
