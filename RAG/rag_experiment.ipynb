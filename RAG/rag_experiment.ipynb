{
 "cells": [
  {
   "cell_type": "code",
   "execution_count": 130,
   "metadata": {},
   "outputs": [],
   "source": [
    "import os\n",
    "import re\n",
    "\n",
    "import joblib\n",
    "import torch\n",
    "import numpy as np\n",
    "from dotenv import load_dotenv\n",
    "from IPython.display import Image, display\n",
    "from langchain_core.prompts import ChatPromptTemplate\n",
    "# from langchain_text_splitters import RecursiveCharacterTextSplitter\n",
    "# from langchain_core.documents import Document\n",
    "from langchain_cerebras import ChatCerebras\n",
    "from langchain_openai import ChatOpenAI\n",
    "from pymilvus import connections, Collection\n",
    "from pymilvus.model.hybrid import BGEM3EmbeddingFunction\n",
    "from fastembed import LateInteractionTextEmbedding\n",
    "from langgraph.graph import START, StateGraph\n",
    "from pydantic import BaseModel, Field\n",
    "from typing_extensions import List, Dict, TypedDict"
   ]
  },
  {
   "cell_type": "code",
   "execution_count": 131,
   "metadata": {},
   "outputs": [
    {
     "data": {
      "text/plain": [
       "True"
      ]
     },
     "execution_count": 131,
     "metadata": {},
     "output_type": "execute_result"
    }
   ],
   "source": [
    "load_dotenv()"
   ]
  },
  {
   "attachments": {},
   "cell_type": "markdown",
   "metadata": {},
   "source": [
    "## Connect to Vector Database"
   ]
  },
  {
   "cell_type": "code",
   "execution_count": 132,
   "metadata": {},
   "outputs": [],
   "source": [
    "# Utilize GPU to load and infer the embedding model if available \n",
    "DEVICE = \"cuda\" if torch.cuda.is_available() else \"cpu\"\n",
    "\n",
    "# This is the parameter to connect to the Zilliz vector database\n",
    "ZILLIZ_URI = os.getenv(\"ZILLIZ_URI\")\n",
    "ZILLIZ_USER = os.getenv(\"ZILLIZ_USER\")\n",
    "ZILLIZ_PASSWORD = os.getenv(\"ZILLIZ_PASSWORD\")\n",
    "COLLECTION_NAME = \"emgt_605_bge_bm25_500_50\"\n",
    "\n",
    "# The file path to load the sparse embeddings\n",
    "SPARSE_EMBEDDINGS_PATH = \"../artifact/emgt605/sparse_embeddings.joblib\"\n",
    "\n",
    "# The name of ColBERT model that will be used as a reranker\n",
    "COLBERT_MODEL_NAME = \"answerdotai/answerai-colbert-small-v1\"\n",
    "\n",
    "# Enable the tracing feature of Langsmith\n",
    "os.environ[\"LANGCHAIN_TRACING_V2\"] = \"true\"\n",
    "os.environ[\"LANGCHAIN_API_KEY\"] = os.getenv(\"LANGCHAIN_API_KEY\")"
   ]
  },
  {
   "cell_type": "code",
   "execution_count": 133,
   "metadata": {},
   "outputs": [],
   "source": [
    "class ColBERTReranker(LateInteractionTextEmbedding):\n",
    "    def __init__(self, model_name: str = \"answerdotai/answerai-colbert-small-v1\", **kwargs) -> None:\n",
    "        \"\"\"\n",
    "        Initializes the ColBERTReranker with the given model name.\n",
    "        \"\"\"\n",
    "        super().__init__(model_name=model_name, **kwargs)\n",
    "\n",
    "    def compute_relevance_scores(self, query_embedding: np.array, document_embeddings: np.array, k: int) -> List[int]:\n",
    "        \"\"\"\n",
    "        Compute relevance scores for top-k documents given a query.\n",
    "        \"\"\"\n",
    "        # Compute batch dot-product of query_embedding and document_embeddings\n",
    "        # Resulting shape: [num_documents, num_query_terms, max_doc_length]\n",
    "        scores = np.matmul(query_embedding, document_embeddings.transpose(0, 2, 1))\n",
    "\n",
    "        # Apply max-pooling across document terms (axis=2) to find the max similarity per query term\n",
    "        # Shape after max-pool: [num_documents, num_query_terms]\n",
    "        max_scores_per_query_term = np.max(scores, axis=2)\n",
    "\n",
    "        # Sum the scores across query terms to get the total score for each document\n",
    "        # Shape after sum: [num_documents]\n",
    "        total_scores = np.sum(max_scores_per_query_term, axis=1)\n",
    "\n",
    "        # Sort the documents based on their total scores and get the indices of the top-k documents\n",
    "        sorted_indices = np.argsort(total_scores)[::-1][:k]\n",
    "\n",
    "        return list(sorted_indices)\n",
    "\n",
    "    def rerank_docs_query(self, docs: List[str], query: str, top_k: int = 5, return_indices: bool = False) -> List[str] or List[int]:\n",
    "        \"\"\"\n",
    "        Rerank the documents based on the query. Can return the indices of the top-k documents or the documents themselves.\n",
    "        \"\"\"\n",
    "        document_embeddings = list(self.embed(docs))\n",
    "        query_embeddings = list(self.embed([query]))\n",
    "        \n",
    "        sorted_indices = self.compute_relevance_scores(\n",
    "        np.array(query_embeddings[0]), np.array(document_embeddings), k=top_k\n",
    "        )\n",
    "        \n",
    "        if return_indices:\n",
    "            return sorted_indices\n",
    "        else:\n",
    "            return [docs[i] for i in sorted_indices]"
   ]
  },
  {
   "cell_type": "code",
   "execution_count": 134,
   "metadata": {},
   "outputs": [],
   "source": [
    "class ZillizVectorSearch:\n",
    "    def __init__(\n",
    "        self,\n",
    "        zilliz_user: str,\n",
    "        zilliz_password: str,\n",
    "        zilliz_uri: str,\n",
    "        collection_name: str,\n",
    "        sparse_embeddings,\n",
    "        dense_embeddings,\n",
    "        colbert_reranker,\n",
    "    ) -> None:\n",
    "        \"\"\"\n",
    "        Initializes the VectorSearch class with necessary details.\n",
    "        \"\"\"\n",
    "        self.zilliz_user = zilliz_user\n",
    "        self.zilliz_password = zilliz_password\n",
    "        self.zilliz_uri = zilliz_uri\n",
    "        self.collection_name = collection_name\n",
    "        self.sparse_embeddings = sparse_embeddings\n",
    "        self.dense_embeddings = dense_embeddings\n",
    "        self.reranker = colbert_reranker\n",
    "\n",
    "        # Connect to the collection\n",
    "        self.collection = self.retrieve_collection()\n",
    "\n",
    "    def retrieve_collection(self) -> Collection:\n",
    "        \"\"\"\n",
    "        Retrieve the collection from Zilliz.\n",
    "        \"\"\"\n",
    "        connections.connect(\n",
    "            uri=self.zilliz_uri, user=self.zilliz_user, password=self.zilliz_password\n",
    "        )\n",
    "        return Collection(self.collection_name)\n",
    "\n",
    "    def search(self, query: str, embedding_type: str, top_k: int) -> List[Dict]:\n",
    "        \"\"\"\n",
    "        Perform the search on a specific vector type (dense or sparse).\n",
    "        \"\"\"\n",
    "        if embedding_type == \"dense\":\n",
    "            anns_field = \"dense_vector\"\n",
    "            metric_type = \"COSINE\"\n",
    "            query = self.dense_embeddings.encode_queries([query])[\"dense\"]\n",
    "        elif embedding_type == \"sparse\":\n",
    "            anns_field = \"sparse_vector\"\n",
    "            metric_type = \"IP\"\n",
    "            query = self.sparse_embeddings.encode_queries([query])\n",
    "        else:\n",
    "            raise ValueError(\"Invalid embedding type. Must be either 'dense' or 'sparse'.\")\n",
    "\n",
    "        output_fields = [\n",
    "            \"pk\",\n",
    "            \"start_index\",\n",
    "            \"data_block_ranges\",\n",
    "            \"module_title\",\n",
    "            \"subsection\",\n",
    "            \"submodule_title\",\n",
    "            \"submodule_url\",\n",
    "            \"text\",\n",
    "        ]\n",
    "\n",
    "        results = self.collection.search(\n",
    "            query,\n",
    "            anns_field=anns_field,\n",
    "            limit=top_k,\n",
    "            param={\"metric_type\": metric_type},\n",
    "            output_fields=output_fields,\n",
    "        )\n",
    "        results = [result.to_dict()[\"entity\"] for result in results[0]]\n",
    "\n",
    "        return results\n",
    "\n",
    "    def hybrid_search(self, query: str, top_k_each: int = 5, top_k_final: int = 5) -> List[Dict]:\n",
    "        \"\"\"\n",
    "        Perform a hybrid search combining dense and sparse searches.\n",
    "        \"\"\"\n",
    "        pk_set = set()\n",
    "        unique_results = []\n",
    "\n",
    "        # Search for both dense and sparse results\n",
    "        dense_results = self.search(query, \"dense\", top_k_each)\n",
    "        sparse_results = self.search(query, \"sparse\", top_k_each)\n",
    "        all_results = dense_results + sparse_results\n",
    "\n",
    "        # Combine dense and sparse results and remove duplicates\n",
    "        for result in all_results:\n",
    "            if result[\"pk\"] not in pk_set:\n",
    "                pk_set.add(result[\"pk\"])\n",
    "                unique_results.append(result)\n",
    "\n",
    "        # Rerank the results\n",
    "        sorted_indices = self.reranker.rerank_docs_query(\n",
    "            [result[\"text\"] for result in unique_results], query, top_k=top_k_final, return_indices=True\n",
    "        )\n",
    "        ranked_results = [unique_results[i] for i in sorted_indices]\n",
    "        return ranked_results"
   ]
  },
  {
   "cell_type": "code",
   "execution_count": 135,
   "metadata": {},
   "outputs": [
    {
     "name": "stderr",
     "output_type": "stream",
     "text": [
      "Fetching 30 files: 100%|██████████| 30/30 [00:00<?, ?it/s]\n"
     ]
    }
   ],
   "source": [
    "dense_embeddings = BGEM3EmbeddingFunction(use_fp16=False, device=DEVICE, return_dense=True, return_sparse=False)\n",
    "sparse_embeddings = joblib.load(SPARSE_EMBEDDINGS_PATH)\n",
    "colbert_reranker = ColBERTReranker(model_name=COLBERT_MODEL_NAME)\n",
    "vector_search = ZillizVectorSearch(ZILLIZ_USER, ZILLIZ_PASSWORD, ZILLIZ_URI, COLLECTION_NAME, sparse_embeddings, dense_embeddings, colbert_reranker)"
   ]
  },
  {
   "attachments": {},
   "cell_type": "markdown",
   "metadata": {},
   "source": [
    "## Initialize LLM"
   ]
  },
  {
   "cell_type": "code",
   "execution_count": 21,
   "metadata": {},
   "outputs": [],
   "source": [
    "# GROQ_API_KEY = os.getenv(\"GROQ_API_KEY\")\n",
    "\n",
    "# llm = ChatGroq(api_key=GROQ_API_KEY, model=\"llama-3.3-70b-versatile\", temperature=0, max_retries=3)\n",
    "\n",
    "# CEREBRAS_API_KEY = os.getenv(\"CEREBRAS_API_KEY\")\n",
    "# llm = ChatCerebras(api_key=CEREBRAS_API_KEY, model=\"llama-3.3-70b\", temperature=0, max_retries=3)\n",
    "\n",
    "from langchain_openai import ChatOpenAI\n",
    "OPENAI_API_KEY = os.getenv(\"OPENAI_API_KEY\")\n",
    "llm = ChatOpenAI(api_key=OPENAI_API_KEY, model=\"gpt-4o\", temperature=0, max_retries=3)"
   ]
  },
  {
   "attachments": {},
   "cell_type": "markdown",
   "metadata": {},
   "source": [
    "## Prompt and Flow Testing"
   ]
  },
  {
   "attachments": {},
   "cell_type": "markdown",
   "metadata": {},
   "source": [
    "We will test several patterns for the RAG system. Sources are defined as the context retrieved from the vector database while quotes are a specific span of the source that is used to formulate the final answer."
   ]
  },
  {
   "attachments": {},
   "cell_type": "markdown",
   "metadata": {},
   "source": [
    "#### Pattern 1: Answer with list of quotes"
   ]
  },
  {
   "cell_type": "code",
   "execution_count": 44,
   "metadata": {},
   "outputs": [],
   "source": [
    "def _load_generate_prompt(course_name):\n",
    "    generate_system_prompt = f\"\"\"You're a helpful personalized tutor for {course_name}. Given a user question and some course contents, answer the question thoroughly based on the course contents and justify all part of your answer by providing verbatim citations and SOURCE ID. If none of the course content answer the question, just say: \"Sorry, I can't find any relevant course content related to your question\". \n",
    "\n",
    "    Here are the course contents (not visible to the user):\n",
    "    {{sources}}\"\"\"\n",
    "\n",
    "    return ChatPromptTemplate.from_messages([\n",
    "        (\"system\", generate_system_prompt),\n",
    "        (\"human\", \"{question}\"),\n",
    "    ])\n",
    "\n",
    "generate_prompt = _load_generate_prompt(\"Sustainability Systems in Engineering\")"
   ]
  },
  {
   "cell_type": "code",
   "execution_count": 51,
   "metadata": {},
   "outputs": [],
   "source": [
    "def add_contextual_headers(doc):\n",
    "    context = f\"Content snippet of: {doc['module_title']} - {doc['subsection']}: {doc['submodule_title']}\"\n",
    "    return context + \"\\n\" + doc['text']\n",
    "\n",
    "def format_sources_with_id(sources: List[Dict]) -> str:\n",
    "    for source in sources:\n",
    "        contextual_text = add_contextual_headers(source)\n",
    "        source['text'] = contextual_text\n",
    "    \n",
    "    formatted = [\n",
    "        f\"SOURCE ID: {i}\\nContent: {source['text']}\"\n",
    "        for i, source in enumerate(sources)\n",
    "    ]\n",
    "    return \"\\n\\n\" + \"\\n---\\n\".join(formatted)\n",
    "\n",
    "class Citation(BaseModel):\n",
    "    source_id: int = Field(\n",
    "        ...,\n",
    "        description=\"The integer ID of a SPECIFIC source which justifies the answer.\",\n",
    "    )\n",
    "    quote: str = Field(\n",
    "        ...,\n",
    "        description=\"The DIRECT quote from the specified source that justifies the answer.\",\n",
    "    )\n",
    "\n",
    "class QuotedAnswer(BaseModel):\n",
    "    \"\"\"Answer the user question thoroughly based only on the given sources, and cite all the sources used.\"\"\"\n",
    "\n",
    "    answer: str = Field(\n",
    "        ...,\n",
    "        description=\"The final answer to the user question based on the given sources. Do not include the term 'SOURCE ID'.\",\n",
    "    )\n",
    "    citations: List[Citation] = Field(\n",
    "        ..., description=\"Citations from the given sources that justify the answer.\"\n",
    "    )\n",
    "    \n",
    "class State(TypedDict):\n",
    "    question: str\n",
    "    sources: List[Dict]\n",
    "    answer: QuotedAnswer\n",
    "\n",
    "def retrieve(state: State):\n",
    "    retrieved_sources = vector_search.hybrid_search(query=state[\"question\"], top_k_final=3)\n",
    "    return {\"sources\": retrieved_sources}\n",
    "\n",
    "def generate_answer(state: State):\n",
    "    formatted_sources = format_sources_with_id(state[\"sources\"])\n",
    "    messages = generate_prompt.invoke({\"question\": state[\"question\"], \"sources\": formatted_sources})\n",
    "    structured_llm = llm.with_structured_output(QuotedAnswer)\n",
    "    response = structured_llm.invoke(messages)\n",
    "    return {\"answer\": response}\n",
    "\n",
    "def build_graph():\n",
    "    graph_builder = StateGraph(State).add_sequence([retrieve, generate_answer])\n",
    "    graph_builder.add_edge(START, \"retrieve\")\n",
    "    return graph_builder.compile()"
   ]
  },
  {
   "cell_type": "code",
   "execution_count": 52,
   "metadata": {},
   "outputs": [
    {
     "data": {
      "image/png": "[encoded data removed]",
      "text/plain": [
       "<IPython.core.display.Image object>"
      ]
     },
     "metadata": {},
     "output_type": "display_data"
    }
   ],
   "source": [
    "graph = build_graph()\n",
    "display(Image(graph.get_graph().draw_mermaid_png()))"
   ]
  },
  {
   "cell_type": "code",
   "execution_count": 53,
   "metadata": {},
   "outputs": [],
   "source": [
    "result = graph.invoke({\"question\": \"What are different ways to calculate GDP? Please explain them as well.\"})"
   ]
  },
  {
   "cell_type": "code",
   "execution_count": 54,
   "metadata": {},
   "outputs": [
    {
     "name": "stdout",
     "output_type": "stream",
     "text": [
      "GDP can be calculated using three different approaches: production-based, expenditure-based, and income-based methods.\n",
      "\n",
      "1. **Production-based method**: This method calculates GDP by measuring the gross value added from production. It involves taking the total value of goods and services produced and subtracting the cost of inputs used in production to avoid double-counting. This approach focuses on the output of the economy.\n",
      "\n",
      "2. **Expenditure-based method**: This method calculates GDP by looking at what is spent on the acquisition of final products and services within a specific time. It considers the total expenditure on goods and services in the economy, including consumption, investment, government spending, and net exports (exports minus imports).\n",
      "\n",
      "3. **Income-based method**: This method calculates GDP by adding up all the income earned by households in a year, including wages, rent, and interest. It focuses on the income generated from the production of goods and services.\n",
      "\n",
      "In a closed economy, where there is no trade with other countries, these three methods should yield the same GDP figure, which shows the total economic output of the country.\n",
      "\n",
      "Citations:\n",
      "\n",
      "[Citation(source_id=0, quote='Gross Domestic Product (GDP) can be calculated using different approaches, including production-based, expenditure-based, and income-based methods.'), Citation(source_id=0, quote='The production-based method calculates GDP by measuring the gross value added from production. This means the total value of goods and services produced minus the cost of inputs used in production to avoid double-counting.'), Citation(source_id=0, quote='The expenditure-based method calculates GDP by looking at what is spent on the acquisition of final products and services within a specific time.'), Citation(source_id=0, quote='The income-based method calculates GDP by adding up all the income earned by households in a year, including: Wages, Rent, Interest.'), Citation(source_id=0, quote='In a closed economy, where there is no trade with other countries, the production, expenditure, and income-based methods should yield the same GDP figure, which shows the total economic output of the country.')]\n"
     ]
    }
   ],
   "source": [
    "print(result['answer'].answer)\n",
    "print(\"\\nCitations:\\n\")\n",
    "print(result['answer'].citations)"
   ]
  },
  {
   "cell_type": "code",
   "execution_count": 55,
   "metadata": {},
   "outputs": [],
   "source": [
    "result = graph.invoke({\"question\": \"What is the difference between economic and social impact?\"})"
   ]
  },
  {
   "cell_type": "code",
   "execution_count": 56,
   "metadata": {},
   "outputs": [
    {
     "name": "stdout",
     "output_type": "stream",
     "text": [
      "The difference between economic and social impact lies in the aspects of development projects they evaluate. Economic Impact Assessment (EIA) focuses on changes in employment, income, and economic opportunities. It provides insights into how a project affects the economic landscape, often overlapping with social impact assessments to give a comprehensive view of socio-economic effects. On the other hand, Social Impact Assessment (SIA) focuses on understanding and managing the social consequences of projects. It aims to enhance positive impacts while mitigating negatives, involving community engagement, stakeholder analysis, and ongoing monitoring. SIA addresses ethical and social considerations such as human rights, labour practices, data rights, consumer issues, fairness, and community involvement.\n",
      "\n",
      "Citations:\n",
      "\n",
      "[Citation(source_id=0, quote='Economic Impact Assessment (EIA) evaluates changes in employment, income, and economic opportunities. It often overlaps with SIA to provide a comprehensive view of socio-economic effects.'), Citation(source_id=0, quote='Social Impact Assessment (SIA) focuses on understanding and managing the social consequences of projects. It aims to enhance positive impacts while mitigating negatives. It involves community engagement, stakeholder analysis, and ongoing monitoring.'), Citation(source_id=2, quote='Social impact assessment (SIA) allows companies to identify, manage and improve the ethical and social implications associated with their operations.')]\n"
     ]
    }
   ],
   "source": [
    "print(result['answer'].answer)\n",
    "print(\"\\nCitations:\\n\")\n",
    "print(result['answer'].citations)"
   ]
  },
  {
   "cell_type": "code",
   "execution_count": 57,
   "metadata": {},
   "outputs": [],
   "source": [
    "result = graph.invoke({\"question\": \"How to increase the speed of a car?\"})"
   ]
  },
  {
   "cell_type": "code",
   "execution_count": 58,
   "metadata": {},
   "outputs": [
    {
     "name": "stdout",
     "output_type": "stream",
     "text": [
      "Sorry, I can't find any relevant course content related to your question.\n",
      "\n",
      "Citations:\n",
      "\n",
      "[]\n"
     ]
    }
   ],
   "source": [
    "print(result['answer'].answer)\n",
    "print(\"\\nCitations:\\n\")\n",
    "print(result['answer'].citations)"
   ]
  },
  {
   "attachments": {},
   "cell_type": "markdown",
   "metadata": {},
   "source": [
    "Problem: Incosistency between the source and the quote, quote sometimes are not an exact match of the source, so hard to backtrace to the original source."
   ]
  },
  {
   "attachments": {},
   "cell_type": "markdown",
   "metadata": {},
   "source": [
    "#### Pattern 2: 1) Answer with list of quotes, 2) Add inline citation"
   ]
  },
  {
   "cell_type": "code",
   "execution_count": 87,
   "metadata": {},
   "outputs": [],
   "source": [
    "def _load_generate_prompt(course_name):\n",
    "    generate_system_prompt = f\"\"\"You're a helpful personalized tutor for {course_name}. Given a user question and some course contents, answer the question thoroughly based on the course contents and justify all part of your answer by providing verbatim citations and SOURCE ID. If none of the course content answer the question, just say: \"Sorry, I can't find any relevant course content related to your question\". \n",
    "\n",
    "    Here are the course contents (not visible to the user):\n",
    "    {{sources}}\"\"\"\n",
    "\n",
    "    return ChatPromptTemplate.from_messages([\n",
    "        (\"system\", generate_system_prompt),\n",
    "        (\"human\", \"{question}\"),\n",
    "    ])\n",
    "\n",
    "generate_prompt = _load_generate_prompt(\"Sustainability Systems in Engineering\")"
   ]
  },
  {
   "cell_type": "code",
   "execution_count": 88,
   "metadata": {},
   "outputs": [],
   "source": [
    "def _load_inline_citation_prompt():\n",
    "    inline_citation_system_prompt = \"\"\"You're a professional citation formatter. You will be given a question and answer along with the relevant quotes that justify the answer. Your task is to generate an inline citation for the final answer by matching relevant portions of the answer with the corresponding quote IDs. Do not include the term \"QUOTE ID\" in the final answer.\n",
    "Follow the following format for the final answer:\n",
    "This is an example of inline citation^[1]. One sentence can have multiple inline citations^[2], if they are supported by multiple quotes^[3].\n",
    "\n",
    "Here are the relevant quotes:\n",
    "{quotes}\n",
    "\"\"\"\n",
    "\n",
    "    inline_citation_human_prompt = \"\"\"\n",
    "Question: {question}\n",
    "\n",
    "Answer: {answer}\n",
    "    \n",
    "Formatted answer:\n",
    "\"\"\"\n",
    "\n",
    "    return ChatPromptTemplate.from_messages([\n",
    "        (\"system\", inline_citation_system_prompt),\n",
    "        (\"human\", inline_citation_human_prompt),\n",
    "    ])\n",
    "    \n",
    "inline_citation_prompt = _load_inline_citation_prompt()"
   ]
  },
  {
   "cell_type": "code",
   "execution_count": 89,
   "metadata": {},
   "outputs": [],
   "source": [
    "def add_contextual_headers(doc):\n",
    "    context = f\"Content snippet of: {doc['module_title']} - {doc['subsection']}: {doc['submodule_title']}\"\n",
    "    return context + \"\\n\" + doc['text']\n",
    "\n",
    "def format_sources_with_id(sources: List[Dict]) -> str:\n",
    "    for source in sources:\n",
    "        contextual_text = add_contextual_headers(source)\n",
    "        source['text'] = contextual_text\n",
    "    \n",
    "    formatted = [\n",
    "        f\"SOURCE ID: {i}\\nContent: {source['text']}\"\n",
    "        for i, source in enumerate(sources)\n",
    "    ]\n",
    "    return \"\\n\\n\" + \"\\n---\\n\".join(formatted)\n",
    "\n",
    "def format_quotes_with_id(citations):\n",
    "    formatted = [\n",
    "        f\"QUOTE ID: {i}\\nContent: {citation.quote}\"\n",
    "        for i, citation in enumerate(citations)\n",
    "    ]\n",
    "    return \"\\n\\n\" + \"\\n---\\n\".join(formatted)\n",
    "    \n",
    "class Citation(BaseModel):\n",
    "    source_id: int = Field(\n",
    "        ...,\n",
    "        description=\"The integer ID of a SPECIFIC source which justifies the answer.\",\n",
    "    )\n",
    "    quote: str = Field(\n",
    "        ...,\n",
    "        description=\"The VERBATIM quote from the specified source that justifies the answer.\",\n",
    "    )\n",
    "\n",
    "\n",
    "class QuotedAnswer(BaseModel):\n",
    "    \"\"\"Answer the user question thorougly based only on the given sources, and cite all the sources used.\"\"\"\n",
    "\n",
    "    answer: str = Field(\n",
    "        ...,\n",
    "        description=\"The final answer to the user question based on the given sources. Do not include the term 'SOURCE ID'.\",\n",
    "    )\n",
    "    citations: List[Citation] = Field(\n",
    "        ..., description=\"Citations from the given sources that justify the answer.\"\n",
    "    )\n",
    "    \n",
    "class State(TypedDict):\n",
    "    question: str\n",
    "    sources: List[Dict]\n",
    "    intermediate_answer: QuotedAnswer\n",
    "    final_answer: str\n",
    "\n",
    "def retrieve(state: State):\n",
    "    retrieved_sources = vector_search.hybrid_search(query=state[\"question\"], top_k_final=3)\n",
    "    return {\"sources\": retrieved_sources}\n",
    "\n",
    "def generate_intermediate_answer(state):\n",
    "    formatted_sources = format_sources_with_id(state[\"sources\"])\n",
    "    messages = generate_prompt.invoke({\"question\": state[\"question\"], \"sources\": formatted_sources})\n",
    "    structured_llm = llm.with_structured_output(QuotedAnswer)\n",
    "    response = structured_llm.invoke(messages)\n",
    "    return {\"intermediate_answer\": response}\n",
    "\n",
    "def generate_final_answer(state):\n",
    "    formatted_quotes = format_quotes_with_id(state[\"intermediate_answer\"].citations)\n",
    "    messages = inline_citation_prompt.invoke({\n",
    "        \"question\": state[\"question\"], \n",
    "        \"answer\": state['intermediate_answer'].answer, \n",
    "        \"quotes\": formatted_quotes\n",
    "    })\n",
    "    \n",
    "    response = llm.invoke(messages)\n",
    "    return {\"final_answer\": response}\n",
    "\n",
    "def build_graph():\n",
    "    graph_builder = StateGraph(State).add_sequence([\n",
    "        retrieve, \n",
    "        generate_intermediate_answer, \n",
    "        generate_final_answer\n",
    "    ])\n",
    "    graph_builder.add_edge(START, \"retrieve\")\n",
    "    graph_builder.add_edge(\"generate_intermediate_answer\", \"generate_final_answer\")\n",
    "    return graph_builder.compile()"
   ]
  },
  {
   "cell_type": "code",
   "execution_count": 90,
   "metadata": {},
   "outputs": [
    {
     "data": {
      "image/png": "[encoded data removed]",
      "text/plain": [
       "<IPython.core.display.Image object>"
      ]
     },
     "metadata": {},
     "output_type": "display_data"
    }
   ],
   "source": [
    "graph = build_graph()\n",
    "display(Image(graph.get_graph().draw_mermaid_png()))"
   ]
  },
  {
   "cell_type": "code",
   "execution_count": 91,
   "metadata": {},
   "outputs": [],
   "source": [
    "result = graph.invoke({\"question\": \"What are different ways to calculate GDP? Please explain them as well.\"})"
   ]
  },
  {
   "cell_type": "code",
   "execution_count": 92,
   "metadata": {},
   "outputs": [
    {
     "name": "stdout",
     "output_type": "stream",
     "text": [
      "GDP can be calculated using three different approaches: the production-based method, the expenditure-based method, and the income-based method^[0].\n",
      "\n",
      "1. **Production-based method**: This method calculates GDP by measuring the gross value added from production. It involves taking the total value of goods and services produced and subtracting the cost of inputs used in production to avoid double-counting. This approach focuses on the output of the economy^[1].\n",
      "\n",
      "2. **Expenditure-based method**: This method calculates GDP by looking at what is spent on the acquisition of final products and services within a specific time. It considers the total expenditure on goods and services in the economy, including consumption, investment, government spending, and net exports (exports minus imports)^[2].\n",
      "\n",
      "3. **Income-based method**: This method calculates GDP by adding up all the income earned by households in a year, including wages, rent, and interest. It focuses on the income generated from the production of goods and services in the economy^[3].\n",
      "\n",
      "In a closed economy, where there is no trade with other countries, these three methods should yield the same GDP figure, which shows the total economic output of the country^[4].\n",
      "\n",
      "Citations:\n",
      "\n",
      "[Citation(source_id=0, quote='Gross Domestic Product (GDP) can be calculated using different approaches, including production-based, expenditure-based, and income-based methods.'), Citation(source_id=0, quote='The production-based method calculates GDP by measuring the gross value added from production. This means the total value of goods and services produced minus the cost of inputs used in production to avoid double-counting.'), Citation(source_id=0, quote='The expenditure-based method calculates GDP by looking at what is spent on the acquisition of final products and services within a specific time.'), Citation(source_id=0, quote='The income-based method calculates GDP by adding up all the income earned by households in a year, including: Wages, Rent, Interest.'), Citation(source_id=0, quote='In a closed economy, where there is no trade with other countries, the production, expenditure, and income-based methods should yield the same GDP figure, which shows the total economic output of the country.')]\n"
     ]
    }
   ],
   "source": [
    "print(result['final_answer'].content)\n",
    "print(\"\\nCitations:\\n\")\n",
    "print(result['intermediate_answer'].citations)"
   ]
  },
  {
   "cell_type": "code",
   "execution_count": 93,
   "metadata": {},
   "outputs": [],
   "source": [
    "result = graph.invoke({\"question\": \"What is the difference between economic and social impact?\"})"
   ]
  },
  {
   "cell_type": "code",
   "execution_count": 94,
   "metadata": {},
   "outputs": [
    {
     "name": "stdout",
     "output_type": "stream",
     "text": [
      "The difference between economic and social impact lies in the aspects of development projects they evaluate. Economic Impact Assessment (EIA) focuses on changes in employment, income, and economic opportunities^[0]. It provides insights into how a project affects the economic environment, often overlapping with social impact assessments to give a comprehensive view of socio-economic effects^[0]. On the other hand, Social Impact Assessment (SIA) focuses on understanding and managing the social consequences of projects^[1]. It aims to enhance positive impacts while mitigating negatives, involving community engagement, stakeholder analysis, and ongoing monitoring^[1]. SIA addresses ethical and social considerations such as human rights, labour practices, data rights, consumer issues, fairness, and community involvement^[2].\n",
      "\n",
      "Citations:\n",
      "\n",
      "[Citation(source_id=0, quote='Economic Impact Assessment (EIA) evaluates changes in employment, income, and economic opportunities. It often overlaps with SIA to provide a comprehensive view of socio-economic effects.'), Citation(source_id=0, quote='Social Impact Assessment (SIA) focuses on understanding and managing the social consequences of projects. It aims to enhance positive impacts while mitigating negatives. It involves community engagement, stakeholder analysis, and ongoing monitoring.'), Citation(source_id=2, quote='Social impact assessment (SIA) allows companies to identify, manage and improve the ethical and social implications associated with their operations.')]\n"
     ]
    }
   ],
   "source": [
    "print(result['final_answer'].content)\n",
    "print(\"\\nCitations:\\n\")\n",
    "print(result['intermediate_answer'].citations)"
   ]
  },
  {
   "attachments": {},
   "cell_type": "markdown",
   "metadata": {},
   "source": [
    "Same problem as pattern 1 as the first step of pattern 2 is the same as pattern 1."
   ]
  },
  {
   "attachments": {},
   "cell_type": "markdown",
   "metadata": {},
   "source": [
    "#### Pattern 3: 1) Answer 2) Justify with inline citations and quotes"
   ]
  },
  {
   "cell_type": "code",
   "execution_count": 95,
   "metadata": {},
   "outputs": [],
   "source": [
    "def _load_generate_prompt(course_name):\n",
    "    generate_system_prompt = f\"\"\"You're a helpful personalized tutor for {course_name}. Given a user question and some course contents, answer the question thoroughly based on the course contents and justify all part of your answer by providing verbatim citations and SOURCE ID. If none of the course content answer the question, just say: \"Sorry, I can't find any relevant course content related to your question\". \n",
    "\n",
    "    Here are the course contents (not visible to the user):\n",
    "    {{sources}}\"\"\"\n",
    "\n",
    "    return ChatPromptTemplate.from_messages([\n",
    "        (\"system\", generate_system_prompt),\n",
    "        (\"human\", \"{question}\"),\n",
    "    ])\n",
    "\n",
    "generate_prompt = _load_generate_prompt(\"Sustainability Systems in Engineering\")"
   ]
  },
  {
   "cell_type": "code",
   "execution_count": 96,
   "metadata": {},
   "outputs": [],
   "source": [
    "def add_contextual_headers(doc):\n",
    "    context = f\"Content snippet of: {doc['module_title']} - {doc['subsection']}: {doc['submodule_title']}\"\n",
    "    return context + \"\\n\" + doc['text']\n",
    "\n",
    "def format_sources_with_id(sources: List[Dict]) -> str:\n",
    "    for source in sources:\n",
    "        contextual_text = add_contextual_headers(source)\n",
    "        source['text'] = contextual_text\n",
    "    \n",
    "    formatted = [\n",
    "        f\"SOURCE ID: {i}\\nContent: {source['text']}\"\n",
    "        for i, source in enumerate(sources)\n",
    "    ]\n",
    "    return \"\\n\\n\" + \"\\n---\\n\".join(formatted)\n",
    "\n",
    "class Citation(BaseModel):\n",
    "    source_id: int = Field(\n",
    "        ...,\n",
    "        description=\"The integer ID of a SPECIFIC source which justifies the answer.\",\n",
    "    )\n",
    "    quote: str = Field(\n",
    "        ...,\n",
    "        description=\"The VERBATIM quote from the specified source that justifies the answer.\",\n",
    "    )\n",
    "\n",
    "class QuotedAnswer(BaseModel):\n",
    "    \"\"\"Answer the user question thorougly based only on the given sources, and cite all the sources used.\"\"\"\n",
    "\n",
    "    answer: str = Field(\n",
    "        ...,\n",
    "        description=\"The final answer to the user question with inline citations. Do not include the term 'SOURCE ID'.\",\n",
    "    )\n",
    "    citations: List[Citation] = Field(\n",
    "        ..., description=\"Citations from the given sources that justify the answer.\"\n",
    "    )\n",
    "    \n",
    "class State(TypedDict):\n",
    "    question: str\n",
    "    sources: List[Dict]\n",
    "    answer: str\n",
    "    final_answer: QuotedAnswer\n",
    "\n",
    "def retrieve(state: State):\n",
    "    retrieved_sources = vector_search.hybrid_search(query=state[\"question\"], top_k_final=3)\n",
    "    return {\"sources\": retrieved_sources}\n",
    "\n",
    "def generate_answer(state: State):\n",
    "    formatted_sources = format_sources_with_id(state[\"sources\"])\n",
    "    messages = generate_prompt.invoke({\"question\": state[\"question\"], \"sources\": formatted_sources})\n",
    "    response = llm.invoke(messages)\n",
    "    return {\"answer\": response.content}\n",
    "\n",
    "def annotate(state: State):\n",
    "    formatted_docs = format_sources_with_id(state[\"sources\"])\n",
    "    messages = [\n",
    "        generate_prompt.format(sources=formatted_docs, question=state[\"question\"]),\n",
    "        (\"ai\", state[\"answer\"]),\n",
    "        (\"human\", \"Annotate your answer with inline citations of source IDs. E.g. This is an example of inline citation[1]. One sentence can have multiple inline citations[2], if they are supported by multiple quotes[3].\"),\n",
    "    ]\n",
    "    structured_llm = llm.with_structured_output(QuotedAnswer)\n",
    "    response = structured_llm.invoke(messages)\n",
    "    return {\"final_answer\": response}\n",
    "\n",
    "def build_graph():\n",
    "    graph_builder = StateGraph(State).add_sequence([retrieve, generate_answer, annotate])\n",
    "    graph_builder.add_edge(START, \"retrieve\")\n",
    "    return graph_builder.compile()"
   ]
  },
  {
   "cell_type": "code",
   "execution_count": 97,
   "metadata": {},
   "outputs": [
    {
     "data": {
      "image/png": "[encoded data removed]",
      "text/plain": [
       "<IPython.core.display.Image object>"
      ]
     },
     "metadata": {},
     "output_type": "display_data"
    }
   ],
   "source": [
    "graph = build_graph()\n",
    "display(Image(graph.get_graph().draw_mermaid_png()))"
   ]
  },
  {
   "cell_type": "code",
   "execution_count": 98,
   "metadata": {},
   "outputs": [],
   "source": [
    "result = graph.invoke({\"question\": \"What are different ways to calculate GDP? Please explain them as well.\"})"
   ]
  },
  {
   "cell_type": "code",
   "execution_count": 99,
   "metadata": {},
   "outputs": [
    {
     "name": "stdout",
     "output_type": "stream",
     "text": [
      "Gross Domestic Product (GDP) can be calculated using different approaches, including the production-based, expenditure-based, and income-based methods[0].\n",
      "\n",
      "1. **Production-based method**: This method calculates GDP by measuring the gross value added from production. It involves taking the total value of goods and services produced and subtracting the cost of inputs used in production to avoid double-counting. This approach focuses on the output of the economy[0].\n",
      "\n",
      "2. **Expenditure-based method**: This method calculates GDP by looking at what is spent on the acquisition of final products and services within a specific time. It considers the total expenditure on goods and services in the economy, including consumption, investment, government spending, and net exports (exports minus imports)[0].\n",
      "\n",
      "3. **Income-based method**: This method calculates GDP by adding up all the income earned by households in a year. This includes wages, rent, and interest. It focuses on the income generated from the production of goods and services[0].\n",
      "\n",
      "In a closed economy, where there is no trade with other countries, the production, expenditure, and income-based methods should yield the same GDP figure, which shows the total economic output of the country[0].\n",
      "\n",
      "Citations:\n",
      "\n",
      "[Citation(source_id=0, quote='Gross Domestic Product (GDP) can be calculated using different approaches, including production-based, expenditure-based, and income-based methods.'), Citation(source_id=0, quote='The production-based method calculates GDP by measuring the gross value added from production. This means the total value of goods and services produced minus the cost of inputs used in production to avoid double-counting.'), Citation(source_id=0, quote='The expenditure-based method calculates GDP by looking at what is spent on the acquisition of final products and services within a specific time.'), Citation(source_id=0, quote='The income-based method calculates GDP by adding up all the income earned by households in a year, including: Wages, Rent, Interest.'), Citation(source_id=0, quote='In a closed economy, where there is no trade with other countries, the production, expenditure, and income-based methods should yield the same GDP figure, which shows the total economic output of the country.')]\n"
     ]
    }
   ],
   "source": [
    "print(result['final_answer'].answer)\n",
    "print(\"\\nCitations:\\n\")\n",
    "print(result['final_answer'].citations)"
   ]
  },
  {
   "attachments": {},
   "cell_type": "markdown",
   "metadata": {},
   "source": [
    "Same problem as pattern 1."
   ]
  },
  {
   "attachments": {},
   "cell_type": "markdown",
   "metadata": {},
   "source": [
    "#### Pattern 4: 1) Recursively split the sources 2) Answer with inline citation of the splitted sources"
   ]
  },
  {
   "cell_type": "code",
   "execution_count": 373,
   "metadata": {},
   "outputs": [],
   "source": [
    "def _load_generate_prompt(course_name):\n",
    "    generate_system_prompt = f\"\"\"You're a helpful personalized tutor for {course_name}. Given a user question and some course contents, answer the question based on the course contents and justify your answer by providing an accurate inline citation of the source IDs. If none of the course content answer the question, just say: \"Sorry, I can't find any relevant course content related to your question\". \n",
    "Follow the following format STRICTLY for the final answer:\n",
    "This is an example of inline citation^[5]. One sentence can have multiple inline citations^[3], and the inline citation can also consist of multiple numbers^[7]^[8]. \n",
    "\n",
    "Here are the course contents (not visible to the user):\n",
    "{{sources}}\"\"\"\n",
    "\n",
    "    return ChatPromptTemplate.from_messages([\n",
    "        (\"system\", generate_system_prompt),\n",
    "        (\"human\", \"{question}\"),\n",
    "    ])\n",
    "generate_prompt = _load_generate_prompt(\"Sustainability Systems in Engineering\")"
   ]
  },
  {
   "cell_type": "code",
   "execution_count": 370,
   "metadata": {},
   "outputs": [],
   "source": [
    "# def _load_generate_prompt(course_name):\n",
    "#     generate_system_prompt = f\"\"\"You're a helpful personalized tutor for {course_name}. Given a user question and some course contents, answer the question based on the course contents and justify your answer by providing an accurate inline citation of the source IDs. If none of the course content answer the question, just say: \"Sorry, I can't find any relevant course content related to your question\". DO NOT use any external knowledge to answer the question.\n",
    "# Follow the following format STRICTLY for the final answer:\n",
    "# This is an example of inline citation^[5]. One sentence can have multiple inline citations^[3], and the inline citation can also consist of multiple numbers^[7]^[8]. \n",
    "\n",
    "# Here are the course contents (not visible to the user):\n",
    "# {{sources}}\"\"\"\n",
    "\n",
    "#     return ChatPromptTemplate.from_messages([\n",
    "#         (\"system\", generate_system_prompt),\n",
    "#         (\"human\", \"{question}\"),\n",
    "#     ])\n",
    "# generate_prompt = _load_generate_prompt(\"Sustainability Systems in Engineering\")"
   ]
  },
  {
   "cell_type": "code",
   "execution_count": 381,
   "metadata": {},
   "outputs": [],
   "source": [
    "def _merge_overlapping_sources(sources: List[Dict]) -> List[Dict]:\n",
    "    submodule_url_dict = {}\n",
    "\n",
    "    # Group sources by submodule_url\n",
    "    for source in sources:\n",
    "        source['end_index'] = source['start_index'] + len(source['text'])\n",
    "        if source['submodule_url'] not in submodule_url_dict:\n",
    "            submodule_url_dict[source['submodule_url']] = []\n",
    "        submodule_url_dict[source['submodule_url']].append(source)\n",
    "\n",
    "    # Merge overlapping sources for each submodule_url\n",
    "    for submodule_url, sources in submodule_url_dict.items():\n",
    "        if len(sources) > 1:\n",
    "            new_sources = []\n",
    "            # Sort documents by start_index\n",
    "            sorted_sources = sorted(sources, key=lambda x: x['start_index'])\n",
    "            for i, source in enumerate(sorted_sources):\n",
    "                if i == 0:\n",
    "                    new_sources.append(source)\n",
    "                else:\n",
    "                    # Check if the current source overlaps with the last source in new_sources\n",
    "                    if source['start_index'] < new_sources[-1]['end_index']:\n",
    "                        # note that we don't use the end_index of the last source directly as the indices are relative to the original submodule content\n",
    "                        non_overlapping_text = source['text'][new_sources[-1]['end_index'] - source['start_index']:]\n",
    "                        new_sources[-1]['text'] += non_overlapping_text\n",
    "                        new_sources[-1]['end_index'] = source['end_index']\n",
    "                    else:\n",
    "                        new_sources.append(source)\n",
    "            # Update the submodule_url_dict with the merged sources\n",
    "            submodule_url_dict[submodule_url] = new_sources\n",
    "            \n",
    "    # Flatten the dictionary back to a list\n",
    "    merged_sources = []\n",
    "    for sources in submodule_url_dict.values():\n",
    "        merged_sources.extend(sources)\n",
    "        \n",
    "    return merged_sources\n",
    "\n",
    "def _split_source_by_block(source: Dict): \n",
    "    source_splits = []\n",
    "    start_index = source['start_index']\n",
    "    end_index = start_index + len(source['text'])\n",
    "    contextual_header = f\"Below are content snippet of: {source['module_title']} - {source['subsection']}: {source['submodule_title']}\"\n",
    "            \n",
    "    for block_id, block_range in source['data_block_ranges'].items():\n",
    "        if start_index <= block_range['char_end'] and end_index >= block_range['char_start']:\n",
    "            adjust_start = max(0, block_range['char_start']-start_index)\n",
    "            adjusted_end = min(len(source['text']), block_range['char_end']-start_index)\n",
    "            text = source['text'][adjust_start:adjusted_end]\n",
    "            source_splits.append(\n",
    "                {   \n",
    "                    \"block_id\": block_id,\n",
    "                    \"text\": text,\n",
    "                }\n",
    "            )\n",
    "    \n",
    "    source_dict = {\n",
    "        \"submodule_url\": source['submodule_url'],\n",
    "        \"submodule_title\": source['submodule_title'],\n",
    "        \"contextual_header\": contextual_header,\n",
    "        \"source_splits\": source_splits\n",
    "    }\n",
    "    \n",
    "    return source_dict\n",
    "\n",
    "def format_sources_for_llm(sources: List[Dict]):\n",
    "    merged_sources = _merge_overlapping_sources(sources)\n",
    "    source_dicts = []\n",
    "    source_id = 0\n",
    "    final_formatted_sources = \"\"\n",
    "    \n",
    "    for source in merged_sources:\n",
    "        source_dict = _split_source_by_block(source)\n",
    "        formatted_splits = \"\"\n",
    "        for split in source_dict['source_splits']:\n",
    "            split['source_id'] = source_id\n",
    "            formatted_splits += f\"[{split['source_id']}]\\n{split['text'].strip()}\\n\"\n",
    "            source_id += 1\n",
    "        source_dict['source_ids'] = [split['source_id'] for split in source_dict['source_splits']]\n",
    "        source_dicts.append(source_dict)\n",
    "        final_formatted_sources += source_dict['contextual_header'] + \":\\n\" + formatted_splits + \"===\\n\\n\"\n",
    "        \n",
    "    return {\"content\": final_formatted_sources, \"source_dicts\": source_dicts}"
   ]
  },
  {
   "cell_type": "code",
   "execution_count": 382,
   "metadata": {},
   "outputs": [],
   "source": [
    "class State(TypedDict):\n",
    "    question: str\n",
    "    sources: List[Dict]\n",
    "    formatted_sources: Dict\n",
    "    answer: str\n",
    "\n",
    "def retrieve(state: State):\n",
    "    retrieved_sources = vector_search.hybrid_search(query=state[\"question\"], top_k_final=4)\n",
    "    formatted_sources = format_sources_for_llm(retrieved_sources)\n",
    "    return {\"sources\": retrieved_sources, \"formatted_sources\": formatted_sources}\n",
    "\n",
    "def generate(state: State):\n",
    "    messages = generate_prompt.invoke({\"question\": state[\"question\"], \"sources\": state[\"formatted_sources\"][\"content\"]})\n",
    "    response = llm.invoke(messages)\n",
    "    return {\"answer\": response.content}\n",
    "\n",
    "def build_graph():\n",
    "    graph_builder = StateGraph(State).add_sequence([retrieve, generate])\n",
    "    graph_builder.add_edge(START, \"retrieve\")\n",
    "    return graph_builder.compile()"
   ]
  },
  {
   "cell_type": "code",
   "execution_count": 383,
   "metadata": {},
   "outputs": [
    {
     "data": {
      "image/png": "[encoded data removed]",
      "text/plain": [
       "<IPython.core.display.Image object>"
      ]
     },
     "metadata": {},
     "output_type": "display_data"
    }
   ],
   "source": [
    "graph = build_graph()\n",
    "display(Image(graph.get_graph().draw_mermaid_png()))"
   ]
  },
  {
   "cell_type": "code",
   "execution_count": 384,
   "metadata": {},
   "outputs": [],
   "source": [
    "def deduplicate_consecutive_citations(text):\n",
    "    # Find groups of consecutive citations and deduplicate them\n",
    "    def replace_consecutive(match):\n",
    "        citations = re.findall(r'\\[(\\d+)\\]', match.group(0))\n",
    "        unique_citations = []\n",
    "        for citation in citations:\n",
    "            # Only remove duplicates within this consecutive group\n",
    "            if citation not in unique_citations:\n",
    "                unique_citations.append(citation)\n",
    "        return ''.join(f'[{citation}]' for citation in unique_citations)\n",
    "    \n",
    "    # Pattern to match one or more consecutive citations\n",
    "    pattern = r'(?:\\[\\d+\\])+' \n",
    "    return re.sub(pattern, replace_consecutive, text)\n",
    "\n",
    "def format_final_answer(result):\n",
    "    # extract the citation ids from the answer\n",
    "    citation_pattern = re.compile(r\"\\^\\[(\\d+)\\]\")\n",
    "    citation_ids = citation_pattern.findall(result['answer'])\n",
    "    citation_ids = set([int(id) for id in citation_ids])\n",
    "\n",
    "    # find the source for each citation\n",
    "    citation_data = []\n",
    "    source_metadata = result['formatted_sources']['source_dicts']\n",
    "\n",
    "    for submodule_source in source_metadata:\n",
    "        matching_ids = set(submodule_source['source_ids']).intersection(citation_ids)\n",
    "        if matching_ids:\n",
    "            citation = {\"submodule_url\": submodule_source['submodule_url'], \n",
    "                        \"submodule_title\": submodule_source['submodule_title'],\n",
    "                        \"old_citation_ids\": [], \"block_ids\": []}\n",
    "            for source_split in submodule_source['source_splits']:\n",
    "                if source_split['source_id'] in matching_ids:\n",
    "                    citation['old_citation_ids'].append(source_split['source_id'])\n",
    "                    citation['block_ids'].append(source_split['block_id'])\n",
    "            citation_data.append(citation)\n",
    "\n",
    "    # Sort by the minimum value in 'citation_ids'\n",
    "    citation_data = sorted(citation_data, key=lambda x: min(x['old_citation_ids']))\n",
    "\n",
    "    # process the final citation url and id\n",
    "    new_citation_id = 1\n",
    "    for citation in citation_data:\n",
    "        citation['final_url'] = citation['submodule_url'] + \"/block/\" + \",\".join(citation['block_ids'])\n",
    "        citation['new_citation_id'] = new_citation_id\n",
    "        new_citation_id += 1\n",
    "\n",
    "    # reformat the answer with the new citation ids\n",
    "    final_answer = result['answer']\n",
    "    for citation in citation_data:\n",
    "        for old_citation_id in citation['old_citation_ids']:\n",
    "            final_answer = final_answer.replace(f\"^[{old_citation_id}]\", f\"[{citation['new_citation_id']}]\")\n",
    "    \n",
    "    final_citation = {}\n",
    "    for citation in citation_data:\n",
    "        final_citation[citation['new_citation_id']] = {\"url\": citation['final_url'], \"title\": citation['submodule_title']}\n",
    "        \n",
    "    # deduplicate the final citation\n",
    "    final_answer = deduplicate_consecutive_citations(final_answer)\n",
    "    \n",
    "    return {\"content\": final_answer, \"citation\": final_citation}"
   ]
  },
  {
   "cell_type": "code",
   "execution_count": 385,
   "metadata": {},
   "outputs": [],
   "source": [
    "result = graph.invoke({\"question\": \"What are different ways to calculate GDP? Please explain them as well.\"})"
   ]
  },
  {
   "cell_type": "code",
   "execution_count": 386,
   "metadata": {},
   "outputs": [
    {
     "name": "stdout",
     "output_type": "stream",
     "text": [
      "Gross Domestic Product (GDP) can be calculated using different approaches, including the production-based, expenditure-based, and income-based methods[1].\n",
      "\n",
      "1. **Production-based method**: This method calculates GDP by measuring the gross value added from production. It involves taking the total value of goods and services produced and subtracting the cost of inputs used in production to avoid double-counting[1].\n",
      "\n",
      "2. **Expenditure-based method**: This approach calculates GDP by looking at what is spent on the acquisition of final products and services within a specific time period. It essentially sums up all expenditures or spending in the economy[1].\n",
      "\n",
      "3. **Income-based method**: This method calculates GDP by adding up all the income earned by households in a year, including wages, rent, and interest. It focuses on the income generated from the production of goods and services[1]. \n",
      "\n",
      "In a closed economy, where there is no trade with other countries, these three methods should yield the same GDP figure, reflecting the total economic output of the country[1].\n",
      "\n",
      "Citations:\n",
      "\n",
      "{1: {'url': 'https://rise.articulate.com/share/x4kLM8ubXkKXbaSIIYxdg2lUAat8jkZA#/lessons/yDY_9938GpffmDkf3gJF4au8EIJejfRW/block/clh5bdaer000f3n6uot2qcl15,clh5bei5k000n3n6u58395476,clh5bwupe000c3n6pmv8eq1cy', 'title': '1.18 Economic Measures'}}\n"
     ]
    }
   ],
   "source": [
    "final_answer = format_final_answer(result)\n",
    "print(final_answer['content'])\n",
    "print(\"\\nCitations:\\n\")\n",
    "print(final_answer['citation'])"
   ]
  },
  {
   "cell_type": "code",
   "execution_count": 318,
   "metadata": {},
   "outputs": [],
   "source": [
    "result = graph.invoke({\"question\": \"What is the difference between economic and social impact?\"})"
   ]
  },
  {
   "cell_type": "code",
   "execution_count": 347,
   "metadata": {},
   "outputs": [
    {
     "name": "stdout",
     "output_type": "stream",
     "text": [
      "Economic and social impacts differ primarily in their focus and the aspects they assess. Economic impact assessment (EIA) evaluates changes in employment, income, and economic opportunities, often considering both direct and indirect economic impacts such as capital investment, expenditure, revenue, job creation, and broader economic activities like supplier activity and GDP contributions[1][3]. On the other hand, Social Impact Assessment (SIA) focuses on understanding and managing the social consequences of projects, aiming to enhance positive impacts while mitigating negatives. It involves community engagement, stakeholder analysis, and ongoing monitoring to address issues like human rights, labour practices, and community involvement[1][2].\n",
      "\n",
      "Citations:\n",
      "\n",
      "{1: 'https://rise.articulate.com/share/8iOLwHdO2sKg9AXhYYPKLmwK2Y4nEvlT#/lessons/iKoNSrZZUh8A64HAzMc6bJZSUJk64BaO/block/cm3yy4wpb00500hh52jed6o0i', 2: 'https://rise.articulate.com/share/8iOLwHdO2sKg9AXhYYPKLmwK2Y4nEvlT#/lessons/4wWOisBWNuh73L1YleXu6XeQN7fcEXFD/block/cm3w0erii00hv3j7bg93nn06u,cm3vzpmsc009d0ecygwa97oeb', 3: 'https://rise.articulate.com/share/8iOLwHdO2sKg9AXhYYPKLmwK2Y4nEvlT#/lessons/Fcag1rY5c5nknptOrRvgsg84ADQwBxfL/block/cm3z04no401ox3j7a02f452ex,cm3w0l50f00g70hctekgz45hz'}\n"
     ]
    }
   ],
   "source": [
    "final_answer = format_final_answer(result)\n",
    "print(final_answer['content'])\n",
    "print(\"\\nCitations:\\n\")\n",
    "print(final_answer['citation'])"
   ]
  },
  {
   "cell_type": "code",
   "execution_count": 349,
   "metadata": {},
   "outputs": [],
   "source": [
    "result = graph.invoke({\"question\": \"Is wildlife population related to sustainability?\"})"
   ]
  },
  {
   "cell_type": "code",
   "execution_count": 350,
   "metadata": {},
   "outputs": [
    {
     "name": "stdout",
     "output_type": "stream",
     "text": [
      "Yes, wildlife population is related to sustainability. The concept of sustainability encompasses three pillars: environmental, social, and economic factors[1]. Wildlife populations are a crucial component of the environmental pillar, as they contribute to biodiversity and ecosystem health. Maintaining healthy wildlife populations is essential for ecological balance, which in turn supports sustainable development by ensuring that natural resources are available for future generations[1].\n",
      "\n",
      "Citations:\n",
      "\n",
      "{1: 'https://rise.articulate.com/share/x4kLM8ubXkKXbaSIIYxdg2lUAat8jkZA#/lessons/xQ0MAAQZcoTdT-aLBQ8CCT8kZcGhcVFW/block/cm1twcgkr00a63j7581kkjwzb,cm1twck6k00ar3j75ide8wpkh'}\n"
     ]
    }
   ],
   "source": [
    "final_answer = format_final_answer(result)\n",
    "print(final_answer['content'])\n",
    "print(\"\\nCitations:\\n\")\n",
    "print(final_answer['citation'])"
   ]
  },
  {
   "cell_type": "code",
   "execution_count": 374,
   "metadata": {},
   "outputs": [],
   "source": [
    "result = graph.invoke({\"question\": \"How to make the fastest car in the world?\"})"
   ]
  },
  {
   "cell_type": "code",
   "execution_count": 375,
   "metadata": {},
   "outputs": [
    {
     "name": "stdout",
     "output_type": "stream",
     "text": [
      "Sorry, I can't find any relevant course content related to your question.\n",
      "\n",
      "Citations:\n",
      "\n",
      "{}\n"
     ]
    }
   ],
   "source": [
    "final_answer = format_final_answer(result)\n",
    "print(final_answer['content'])\n",
    "print(\"\\nCitations:\\n\")\n",
    "print(final_answer['citation'])"
   ]
  }
 ],
 "metadata": {
  "kernelspec": {
   "display_name": "env.venv",
   "language": "python",
   "name": "python3"
  },
  "language_info": {
   "codemirror_mode": {
    "name": "ipython",
    "version": 3
   },
   "file_extension": ".py",
   "mimetype": "text/x-python",
   "name": "python",
   "nbconvert_exporter": "python",
   "pygments_lexer": "ipython3",
   "version": "3.10.11"
  },
  "orig_nbformat": 4,
  "vscode": {
   "interpreter": {
    "hash": "e9502d0775d3b286aba2791f50951496b3067599c98afd76ac17979de40c4377"
   }
  }
 },
 "nbformat": 4,
 "nbformat_minor": 2
}
