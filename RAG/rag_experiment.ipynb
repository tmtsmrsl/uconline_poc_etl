{
 "cells": [
  {
   "cell_type": "code",
   "execution_count": 1,
   "metadata": {},
   "outputs": [],
   "source": [
    "import os\n",
    "import re\n",
    "\n",
    "import torch\n",
    "from dotenv import load_dotenv\n",
    "from IPython.display import Image, display\n",
    "from langchain_core.documents import Document\n",
    "from langchain_core.prompts import ChatPromptTemplate\n",
    "from langchain_groq import ChatGroq\n",
    "from langchain_huggingface import HuggingFaceEmbeddings\n",
    "from langchain_milvus.vectorstores import Milvus\n",
    "from langgraph.graph import START, StateGraph\n",
    "from pydantic import BaseModel, Field\n",
    "from thefuzz import fuzz, process\n",
    "from typing_extensions import List, TypedDict"
   ]
  },
  {
   "cell_type": "code",
   "execution_count": 2,
   "metadata": {},
   "outputs": [
    {
     "data": {
      "text/plain": [
       "True"
      ]
     },
     "execution_count": 2,
     "metadata": {},
     "output_type": "execute_result"
    }
   ],
   "source": [
    "load_dotenv()"
   ]
  },
  {
   "attachments": {},
   "cell_type": "markdown",
   "metadata": {},
   "source": [
    "## Connect to Vector Database"
   ]
  },
  {
   "cell_type": "code",
   "execution_count": 3,
   "metadata": {},
   "outputs": [],
   "source": [
    "# Utilize GPU to load and infer the embedding model if available \n",
    "DEVICE = torch.device(\"cuda\" if torch.cuda.is_available() else \"cpu\")\n",
    "\n",
    "# We will use bge-m3 model to generate the dense vectors/ embeddings\n",
    "EMBEDDING_MODEL_NAME = \"jinaai/jina-embeddings-v3\"\n",
    "\n",
    "# This is the parameter to connect to the Zilliz vector database\n",
    "ZILLIZ_URI = os.getenv(\"ZILLIZ_URI\")\n",
    "ZILLIZ_USER = os.getenv(\"ZILLIZ_USER\")\n",
    "ZILLIZ_PASSWORD = os.getenv(\"ZILLIZ_PASSWORD\")\n",
    "COLLECTION_NAME = \"emgt_605_jina\"\n",
    "\n",
    "# Enable the tracing feature of Langsmith\n",
    "os.environ[\"LANGCHAIN_TRACING_V2\"] = \"true\"\n",
    "os.environ[\"LANGCHAIN_API_KEY\"] = os.getenv(\"LANGCHAIN_API_KEY\")"
   ]
  },
  {
   "cell_type": "code",
   "execution_count": 4,
   "metadata": {},
   "outputs": [],
   "source": [
    "def load_retriever(embedding_function, zilliz_uri, zilliz_user, zilliz_password, collection_name):\n",
    "    vector_store = Milvus(\n",
    "    embedding_function=[embedding_function],\n",
    "    connection_args={\n",
    "        \"uri\": zilliz_uri,\n",
    "        \"user\": zilliz_user,\n",
    "        \"password\": zilliz_password,\n",
    "        \"secure\": True},\n",
    "    collection_name=collection_name)\n",
    "    \n",
    "    return vector_store.as_retriever()"
   ]
  },
  {
   "cell_type": "code",
   "execution_count": 5,
   "metadata": {},
   "outputs": [
    {
     "name": "stderr",
     "output_type": "stream",
     "text": [
      "c:\\Users\\Marselo\\OneDrive\\Documents\\GitHub\\uconline_poc\\proj.venv\\lib\\site-packages\\sentence_transformers\\cross_encoder\\CrossEncoder.py:13: TqdmWarning: IProgress not found. Please update jupyter and ipywidgets. See https://ipywidgets.readthedocs.io/en/stable/user_install.html\n",
      "  from tqdm.autonotebook import tqdm, trange\n"
     ]
    }
   ],
   "source": [
    "model_kwargs = {\"device\": DEVICE, \"trust_remote_code\":True}\n",
    "dense_embeddings = HuggingFaceEmbeddings(\n",
    "    model_name=EMBEDDING_MODEL_NAME, model_kwargs=model_kwargs)"
   ]
  },
  {
   "attachments": {},
   "cell_type": "markdown",
   "metadata": {},
   "source": [
    "Loading the vector database retriever."
   ]
  },
  {
   "cell_type": "code",
   "execution_count": 6,
   "metadata": {},
   "outputs": [],
   "source": [
    "retriever = load_retriever(dense_embeddings, ZILLIZ_URI, ZILLIZ_USER, \n",
    "                        ZILLIZ_PASSWORD, COLLECTION_NAME)"
   ]
  },
  {
   "attachments": {},
   "cell_type": "markdown",
   "metadata": {},
   "source": [
    "## Initialize LLM"
   ]
  },
  {
   "cell_type": "code",
   "execution_count": 7,
   "metadata": {},
   "outputs": [],
   "source": [
    "GROQ_API_KEY = os.getenv(\"GROQ_API_KEY\")\n",
    "\n",
    "llm = ChatGroq(api_key=GROQ_API_KEY, model=\"llama-3.3-70b-versatile\", temperature=0, max_retries=3)"
   ]
  },
  {
   "attachments": {},
   "cell_type": "markdown",
   "metadata": {},
   "source": [
    "## Initialize Reranker"
   ]
  },
  {
   "cell_type": "code",
   "execution_count": 8,
   "metadata": {},
   "outputs": [],
   "source": [
    "# from fastembed import LateInteractionTextEmbedding"
   ]
  },
  {
   "cell_type": "code",
   "execution_count": 9,
   "metadata": {},
   "outputs": [],
   "source": [
    "# answerai_colbert = LateInteractionTextEmbedding(model_name=\"answerdotai/answerai-colbert-small-v1\")"
   ]
  },
  {
   "cell_type": "code",
   "execution_count": 10,
   "metadata": {},
   "outputs": [],
   "source": [
    "# import numpy as np\n",
    "\n",
    "\n",
    "# def compute_relevance_scores(query_embedding: np.array, document_embeddings: np.array, k: int):\n",
    "#     \"\"\"\n",
    "#     Compute relevance scores for top-k documents given a query.\n",
    "\n",
    "#     :param query_embedding: Numpy array representing the query embedding, shape: [num_query_terms, embedding_dim]\n",
    "#     :param document_embeddings: Numpy array representing embeddings for documents, shape: [num_documents, max_doc_length, embedding_dim]\n",
    "#     :param k: Number of top documents to return\n",
    "#     :return: Indices of the top-k documents based on their relevance scores\n",
    "#     \"\"\"\n",
    "#     # Compute batch dot-product of query_embedding and document_embeddings\n",
    "#     # Resulting shape: [num_documents, num_query_terms, max_doc_length]\n",
    "#     scores = np.matmul(query_embedding, document_embeddings.transpose(0, 2, 1))\n",
    "\n",
    "#     # Apply max-pooling across document terms (axis=2) to find the max similarity per query term\n",
    "#     # Shape after max-pool: [num_documents, num_query_terms]\n",
    "#     max_scores_per_query_term = np.max(scores, axis=2)\n",
    "\n",
    "#     # Sum the scores across query terms to get the total score for each document\n",
    "#     # Shape after sum: [num_documents]\n",
    "#     total_scores = np.sum(max_scores_per_query_term, axis=1)\n",
    "\n",
    "#     # Sort the documents based on their total scores and get the indices of the top-k documents\n",
    "#     sorted_indices = np.argsort(total_scores)[::-1][:k]\n",
    "\n",
    "#     return sorted_indices"
   ]
  },
  {
   "cell_type": "code",
   "execution_count": 11,
   "metadata": {},
   "outputs": [],
   "source": [
    "# def rerank_docs_query(model, docs, query):\n",
    "#     document_embeddings = list(model.embed(docs))\n",
    "#     query_embeddings = list(model.embed([query]))\n",
    "    \n",
    "#     sorted_indices = compute_relevance_scores(\n",
    "#     np.array(query_embeddings[0]), np.array(document_embeddings), k=3)\n",
    "#     return [docs[i] for i in sorted_indices]"
   ]
  },
  {
   "attachments": {},
   "cell_type": "markdown",
   "metadata": {},
   "source": [
    "## Prompt and Flow Testing"
   ]
  },
  {
   "attachments": {},
   "cell_type": "markdown",
   "metadata": {},
   "source": [
    "We will test several patterns for the RAG system. Sources are defined as the context retrieved from the vector database while quotes are a specific span of the source that is used to formulate the final answer."
   ]
  },
  {
   "attachments": {},
   "cell_type": "markdown",
   "metadata": {},
   "source": [
    "CitationProcessor class will be used to check the match between the sources and quotes, and generate the citation for the final answer which will redirect to the lesson blocks of the submodule page."
   ]
  },
  {
   "cell_type": "code",
   "execution_count": 8,
   "metadata": {},
   "outputs": [],
   "source": [
    "class CitationProcessor:\n",
    "    def __init__(self, context, citations):\n",
    "        \"\"\"\n",
    "        Initialize the CitationProcessor with the result object.\n",
    "        \"\"\"\n",
    "        self.context = context\n",
    "        self.citations = citations\n",
    "        self.detailed_sources = []\n",
    "        self.unique_final_urls = []\n",
    "\n",
    "    @staticmethod\n",
    "    def _search_substring_match(paragraph, substring, threshold=90):\n",
    "        \"\"\"\n",
    "        Search for the best match of a substring in a paragraph using fuzzy matching.\n",
    "        Returns the best match, its score, and its start and end character indices in the paragraph.\n",
    "        \"\"\"\n",
    "        # Find the best match using a sliding window and process.extractOne\n",
    "        substring_length = len(substring)\n",
    "        sliding_para_windows = (paragraph[i:i + substring_length] for i in range(len(paragraph) - substring_length + 1))\n",
    "        best_match, score = process.extractOne(substring, sliding_para_windows, scorer=fuzz.partial_ratio)\n",
    "\n",
    "        # If the score meets the threshold, find start and end indices\n",
    "        if score >= threshold:\n",
    "            start_index = paragraph.find(best_match)\n",
    "            end_index = start_index + len(best_match)\n",
    "            return best_match, score, start_index, end_index\n",
    "        else:\n",
    "            return None, score, None, None\n",
    "    \n",
    "    @staticmethod\n",
    "    def _extract_data_block_ids(data_block_ranges, start_index, end_index):\n",
    "        \"\"\"\n",
    "        Extract the IDs of the data blocks that overlap with the provided range.\n",
    "        \"\"\"\n",
    "        # List to hold the IDs of matching data blocks\n",
    "        overlapping_ids = []\n",
    "\n",
    "        # Iterate through each data block in the ranges\n",
    "        for data_block_id, range_values in data_block_ranges.items():\n",
    "            # Get the start and end values of the current data block\n",
    "            block_start = range_values['char_start']\n",
    "            block_end = range_values['char_end']\n",
    "            \n",
    "            # Check if the provided range overlaps with the current data block\n",
    "            if start_index <= block_end and end_index >= block_start:\n",
    "                overlapping_ids.append(data_block_id)\n",
    "        \n",
    "        return overlapping_ids  \n",
    "    \n",
    "    def _process_citation(self, citation):\n",
    "        \"\"\"\n",
    "        Process a single citation to extract detailed source information.\n",
    "        \"\"\"\n",
    "        context = self.context[citation.source_id]\n",
    "        prefix, page_content = context.page_content.split(\"\\n\\n\", 1)\n",
    "        \n",
    "        best_match, score, start_index, end_index = self._search_substring_match(page_content, citation.quote)\n",
    "        \n",
    "        if start_index and end_index:\n",
    "            adjusted_start_index = context.metadata['start_index'] + start_index\n",
    "            adjusted_end_index = context.metadata['start_index'] + end_index\n",
    "            data_block_ids = self._extract_data_block_ids(context.metadata['data_block_ranges'], adjusted_start_index, adjusted_end_index)\n",
    "        else:\n",
    "            data_block_ids = []\n",
    "            \n",
    "        return {\"submodule_url\": context.metadata['submodule_url'], \"data_block_ids\": data_block_ids,\n",
    "                \"best_match\": best_match, \"score\": score}\n",
    "    \n",
    "    @staticmethod\n",
    "    def _generate_urls(submodule_url, data_block_ids):\n",
    "        \"\"\"Generate the final URLs by combining the submodule URL with the data blocks.\"\"\"\n",
    "        final_urls = []\n",
    "\n",
    "        for data_block_id in set(data_block_ids):\n",
    "            final_urls.append(submodule_url + f\"/block/{data_block_id}\")\n",
    "            \n",
    "        return final_urls\n",
    "            \n",
    "    def _add_unique_final_urls(self, final_urls):\n",
    "        \"\"\"\n",
    "        Add final URLs to the unique_final_urls list if they don't already exist.\n",
    "        \"\"\"\n",
    "        for final_url in final_urls:\n",
    "            if final_url not in self.unique_final_urls:\n",
    "                self.unique_final_urls.append(final_url)\n",
    "    \n",
    "    def process_citations(self):\n",
    "        \"\"\"\n",
    "        Process all citations in the result to extract detailed sources and final unique URLs.\n",
    "        \"\"\"\n",
    "        for citation in self.citations:\n",
    "            detailed_source = self._process_citation(citation)\n",
    "            if detailed_source:\n",
    "                final_urls = self._generate_urls(detailed_source['submodule_url'], detailed_source['data_block_ids'])\n",
    "                self._add_unique_final_urls(final_urls)\n",
    "                detailed_source['final_url_ids'] = [self.unique_final_urls.index(final_url) for final_url in final_urls]\n",
    "                self.detailed_sources.append(detailed_source)\n",
    "        \n",
    "        return {\"detailed_sources\": self.detailed_sources, \"final_urls_dict\": {i: url for i, url in enumerate(self.unique_final_urls)}}\n"
   ]
  },
  {
   "attachments": {},
   "cell_type": "markdown",
   "metadata": {},
   "source": [
    "#### Pattern 1: Answer with list of quotes"
   ]
  },
  {
   "cell_type": "code",
   "execution_count": 9,
   "metadata": {},
   "outputs": [
    {
     "name": "stdout",
     "output_type": "stream",
     "text": [
      "================================\u001b[1m System Message \u001b[0m================================\n",
      "\n",
      "You're a helpful personalized tutor for Sustainability Systems in Engineering. Given a user question and some course contents, answer the question and justify your answer by providing verbatim citations from the course contents. If none of the course content answer the question, just say: \"Sorry, I can't find any relevant course content related to your question.\".\n",
      "\n",
      "Here are the course contents:\n",
      "\u001b[33;1m\u001b[1;3m{sources}\u001b[0m\n",
      "\n",
      "================================\u001b[1m Human Message \u001b[0m=================================\n",
      "\n",
      "\u001b[33;1m\u001b[1;3m{question}\u001b[0m\n"
     ]
    }
   ],
   "source": [
    "COURSE_NAME = \"Sustainability Systems in Engineering\"\n",
    "\n",
    "generate_system_prompt = f\"\"\"You're a helpful personalized tutor for {COURSE_NAME}. Given a user question and some course contents, answer the question and justify your answer by providing verbatim citations from the course contents. If none of the course content answer the question, just say: \"Sorry, I can't find any relevant course content related to your question.\".\n",
    "\n",
    "Here are the course contents:\n",
    "{{sources}}\"\"\"\n",
    "\n",
    "generate_prompt = ChatPromptTemplate.from_messages(\n",
    "    [\n",
    "        (\"system\", generate_system_prompt),\n",
    "        (\"human\", \"{question}\"),\n",
    "    ]\n",
    ")\n",
    "generate_prompt.pretty_print()"
   ]
  },
  {
   "cell_type": "code",
   "execution_count": 10,
   "metadata": {},
   "outputs": [
    {
     "data": {
      "image/png": "[encoded data removed]",
      "text/plain": [
       "<IPython.core.display.Image object>"
      ]
     },
     "metadata": {},
     "output_type": "display_data"
    }
   ],
   "source": [
    "def format_sources_with_id(sources: List[Document]) -> str:\n",
    "    formatted = [\n",
    "        f\"SOURCE ID: {i}\\nContent: {doc.page_content}\"\n",
    "        for i, doc in enumerate(sources)\n",
    "    ]\n",
    "    return \"\\n\\n\" + \"\\n---\\n\".join(formatted)\n",
    "\n",
    "class Citation(BaseModel):\n",
    "    source_id: int = Field(\n",
    "        ...,\n",
    "        description=\"The integer ID of a SPECIFIC source which justifies the answer.\",\n",
    "    )\n",
    "    quote: str = Field(\n",
    "        ...,\n",
    "        description=\"The VERBATIM quote from the specified source that justifies the answer.\",\n",
    "    )\n",
    "\n",
    "\n",
    "class QuotedAnswer(BaseModel):\n",
    "    \"\"\"Answer the user question based only on the given sources, and cite the sources used.\"\"\"\n",
    "\n",
    "    answer: str = Field(\n",
    "        ...,\n",
    "        description=\"The answer to the user question, which is based only on the given sources.\",\n",
    "    )\n",
    "    citations: List[Citation] = Field(\n",
    "        ..., description=\"Citations from the given sources that justify the answer.\"\n",
    "    )\n",
    "    \n",
    "class State(TypedDict):\n",
    "    question: str\n",
    "    context: List[Document]\n",
    "    answer: QuotedAnswer\n",
    "\n",
    "def retrieve(state: State):\n",
    "    retriever.search_kwargs = {\"k\": 3}\n",
    "    retrieved_sources = retriever.invoke(state[\"question\"])\n",
    "    return {\"context\": retrieved_sources}\n",
    "\n",
    "def generate_answer(state: State):\n",
    "    formatted_sources = format_sources_with_id(state[\"context\"])\n",
    "    messages = generate_prompt.invoke({\"question\": state[\"question\"], \"sources\": formatted_sources})\n",
    "    structured_llm = llm.with_structured_output(QuotedAnswer)\n",
    "    response = structured_llm.invoke(messages)\n",
    "    return {\"answer\": response}\n",
    "\n",
    "\n",
    "graph_builder = StateGraph(State).add_sequence([retrieve, generate_answer])\n",
    "graph_builder.add_edge(START, \"retrieve\")\n",
    "graph = graph_builder.compile()\n",
    "\n",
    "display(Image(graph.get_graph().draw_mermaid_png()))"
   ]
  },
  {
   "cell_type": "code",
   "execution_count": 11,
   "metadata": {},
   "outputs": [],
   "source": [
    "def process_final_answer(result) -> str:\n",
    "    final_answer = result['answer'].answer\n",
    "    citations = result['answer'].citations\n",
    "    context = result['context']\n",
    "\n",
    "    # Process citations\n",
    "    citation_processor = CitationProcessor(citations=citations, context=context)\n",
    "    processed_citations = citation_processor.process_citations()\n",
    "\n",
    "    # Format the sources\n",
    "    formatted_sources = \"\\n\".join(f\"{idx}: {url}\" for idx, url in processed_citations['final_urls_dict'].items())\n",
    "\n",
    "    return final_answer, formatted_sources"
   ]
  },
  {
   "cell_type": "code",
   "execution_count": 12,
   "metadata": {},
   "outputs": [],
   "source": [
    "result = graph.invoke({\"question\": \"What are different ways to calculate GDP? Please explain them as well.\"})"
   ]
  },
  {
   "cell_type": "code",
   "execution_count": 13,
   "metadata": {},
   "outputs": [
    {
     "data": {
      "text/plain": [
       "QuotedAnswer(answer='There are three different ways to calculate GDP: the production-based method, the expenditure-based method, and the income-based method. The production-based method calculates GDP by measuring the gross value added from production, which means the total value of goods and services produced minus the cost of inputs used in production to avoid double-counting. The expenditure-based method calculates GDP by looking at what is spent on the acquisition of final products and services within a specific time. The income-based method calculates GDP by adding up all the income earned by households in a year, including wages, rent, and interest.', citations=[Citation(source_id=1, quote='The production-based method calculates GDP by measuring the gross value added from production.'), Citation(source_id=1, quote='The expenditure-based method calculates GDP by looking at what is spent on the acquisition of final products and services within a specific time.'), Citation(source_id=0, quote='The income-based method calculates GDP by adding up all the income earned by households in a year, including: Wages, Rent, Interest')])"
      ]
     },
     "execution_count": 13,
     "metadata": {},
     "output_type": "execute_result"
    }
   ],
   "source": [
    "result['answer']"
   ]
  },
  {
   "cell_type": "code",
   "execution_count": 14,
   "metadata": {},
   "outputs": [
    {
     "name": "stdout",
     "output_type": "stream",
     "text": [
      "There are three different ways to calculate GDP: the production-based method, the expenditure-based method, and the income-based method. The production-based method calculates GDP by measuring the gross value added from production, which means the total value of goods and services produced minus the cost of inputs used in production to avoid double-counting. The expenditure-based method calculates GDP by looking at what is spent on the acquisition of final products and services within a specific time. The income-based method calculates GDP by adding up all the income earned by households in a year, including wages, rent, and interest.\n",
      "0: https://rise.articulate.com/share/x4kLM8ubXkKXbaSIIYxdg2lUAat8jkZA#/lessons/yDY_9938GpffmDkf3gJF4au8EIJejfRW/block/clh5bei5k000n3n6u58395476\n"
     ]
    }
   ],
   "source": [
    "final_answer, formatted_sources = process_final_answer(result)\n",
    "print(final_answer)\n",
    "print(formatted_sources)"
   ]
  },
  {
   "cell_type": "code",
   "execution_count": 15,
   "metadata": {},
   "outputs": [],
   "source": [
    "result = graph.invoke({\"question\": \"In NZ what gases emission should be reported?\"})"
   ]
  },
  {
   "cell_type": "code",
   "execution_count": 16,
   "metadata": {},
   "outputs": [
    {
     "data": {
      "text/plain": [
       "QuotedAnswer(answer='In New Zealand, the following greenhouse gases emissions should be reported: Carbon dioxide (CO2), Methane (CH4), Nitrous oxide (N2O), Hydrofluorocarbons (HFCs), Perfluorocarbons (PFCs), Sulphur hexafluoride (SF6), and Nitrogen trifluoride (NF3).', citations=[Citation(source_id=0, quote='The greenhouse gases that are required for reporting are:'), Citation(source_id=0, quote='* Carbon dioxide (CO2). * Methane (CH4). * Nitrous oxide (N2O). * Hydrofluorocarbons (HFCs). * Perfluorocarbons (PFCs). * Sulphur hexafluoride (SF6). * Nitrogen trifluoride (NF3).')])"
      ]
     },
     "execution_count": 16,
     "metadata": {},
     "output_type": "execute_result"
    }
   ],
   "source": [
    "result['answer']"
   ]
  },
  {
   "cell_type": "code",
   "execution_count": 17,
   "metadata": {},
   "outputs": [
    {
     "name": "stdout",
     "output_type": "stream",
     "text": [
      "In New Zealand, the following greenhouse gases emissions should be reported: Carbon dioxide (CO2), Methane (CH4), Nitrous oxide (N2O), Hydrofluorocarbons (HFCs), Perfluorocarbons (PFCs), Sulphur hexafluoride (SF6), and Nitrogen trifluoride (NF3).\n",
      "0: https://rise.articulate.com/share/-45lAOPCrNAZuyFOPHNQPqUXd32Lb236#/lessons/7s54CktDdO1NbrUpN33xHUEzwVFHQ08w/block/cli7znhds009b3n6op40lj1b3\n",
      "1: https://rise.articulate.com/share/-45lAOPCrNAZuyFOPHNQPqUXd32Lb236#/lessons/7s54CktDdO1NbrUpN33xHUEzwVFHQ08w/block/cli7znw7h009j3n6o9z62z84g\n"
     ]
    }
   ],
   "source": [
    "final_answer, formatted_sources = process_final_answer(result)\n",
    "print(final_answer)\n",
    "print(formatted_sources)"
   ]
  }
 ],
 "metadata": {
  "kernelspec": {
   "display_name": "proj.venv",
   "language": "python",
   "name": "python3"
  },
  "language_info": {
   "codemirror_mode": {
    "name": "ipython",
    "version": 3
   },
   "file_extension": ".py",
   "mimetype": "text/x-python",
   "name": "python",
   "nbconvert_exporter": "python",
   "pygments_lexer": "ipython3",
   "version": "3.10.11"
  },
  "orig_nbformat": 4,
  "vscode": {
   "interpreter": {
    "hash": "90eff49fb3e24a038f7bb52d841221e01206cd547d9b592876ffc0cc6e591a8b"
   }
  }
 },
 "nbformat": 4,
 "nbformat_minor": 2
}
