{
 "cells": [
  {
   "cell_type": "code",
   "execution_count": 1,
   "metadata": {},
   "outputs": [
    {
     "ename": "ModuleNotFoundError",
     "evalue": "No module named 'RAG'",
     "output_type": "error",
     "traceback": [
      "\u001b[1;31m---------------------------------------------------------------------------\u001b[0m",
      "\u001b[1;31mModuleNotFoundError\u001b[0m                       Traceback (most recent call last)",
      "Cell \u001b[1;32mIn[1], line 1\u001b[0m\n\u001b[1;32m----> 1\u001b[0m \u001b[39mfrom\u001b[39;00m \u001b[39mRAG\u001b[39;00m\u001b[39m.\u001b[39;00m\u001b[39mutils\u001b[39;00m\u001b[39m.\u001b[39;00m\u001b[39mCitationFormatter\u001b[39;00m \u001b[39mimport\u001b[39;00m CitationFormatter\n",
      "\u001b[1;31mModuleNotFoundError\u001b[0m: No module named 'RAG'"
     ]
    }
   ],
   "source": [
    "from RAG.utils.CitationFormatter import CitationFormatter"
   ]
  }
 ],
 "metadata": {
  "kernelspec": {
   "display_name": "env.venv",
   "language": "python",
   "name": "python3"
  },
  "language_info": {
   "codemirror_mode": {
    "name": "ipython",
    "version": 3
   },
   "file_extension": ".py",
   "mimetype": "text/x-python",
   "name": "python",
   "nbconvert_exporter": "python",
   "pygments_lexer": "ipython3",
   "version": "3.10.11"
  },
  "orig_nbformat": 4,
  "vscode": {
   "interpreter": {
    "hash": "e9502d0775d3b286aba2791f50951496b3067599c98afd76ac17979de40c4377"
   }
  }
 },
 "nbformat": 4,
 "nbformat_minor": 2
}
